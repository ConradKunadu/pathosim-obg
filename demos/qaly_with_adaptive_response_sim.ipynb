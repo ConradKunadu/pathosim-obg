{
 "cells": [
  {
   "cell_type": "markdown",
   "metadata": {},
   "source": [
    "# Counterfactual simulation with adaptive responses and QALY statistics\n",
    "This notebook demonstrates how to do a counterfactual simulation across different adaptive interventions and detection times in pathosim. It also includes ways to get QALY statistics from the results."
   ]
  },
  {
   "cell_type": "code",
   "execution_count": 1,
   "metadata": {},
   "outputs": [
    {
     "name": "stdout",
     "output_type": "stream",
     "text": [
      "PathoSim 3.1.2 (2022-01-16) — © 2023 by McGill University\n"
     ]
    }
   ],
   "source": [
    "import unittest \n",
    "import pathosim as inf\n",
    "import sciris as sc\n",
    "import os\n",
    "import numpy as np\n",
    "    \n",
    "result_keys = [ \n",
    "    'n_infectious',  \n",
    "    'n_symptomatic', \n",
    "    'n_severe',       \n",
    "    'n_recovered',   \n",
    "    'n_dead']"
   ]
  },
  {
   "cell_type": "markdown",
   "metadata": {},
   "source": [
    "##### Inputs"
   ]
  },
  {
   "cell_type": "markdown",
   "metadata": {},
   "source": [
    "Life expectancy table for the UK population (taken from National life tables 2020 to 2022, Office for National Statistics). We use the expected residual life (remaining years) at a given age (from age 0 to 100). This allows us to measure the burden of disease in metrics such as Years of Life Lost (YLL)."
   ]
  },
  {
   "cell_type": "code",
   "execution_count": 2,
   "metadata": {},
   "outputs": [],
   "source": [
    "le_UK = inf.LifeExpectancy(\n",
    "    years_remaining_males=[\n",
    "        78.57, 77.91, 76.93, 75.94, 74.95, 73.96, 72.96, 71.97, 70.97, 69.98,\n",
    "        68.98, 67.99, 66.99, 66.00, 65.01, 64.01, 63.02, 62.04, 61.06, 60.08,\n",
    "        59.11, 58.14, 57.17, 56.20, 55.23, 54.26, 53.29, 52.33, 51.36, 50.39,\n",
    "        49.43, 48.47, 47.51, 46.55, 45.60, 44.65, 43.69, 42.75, 41.81, 40.86,\n",
    "        39.93, 39.00, 38.07, 37.14, 36.22, 35.30, 34.39, 33.48, 32.58, 31.69,\n",
    "        30.80, 29.92, 29.04, 28.17, 27.30, 26.43, 25.58, 24.73, 23.89, 23.05,\n",
    "        22.23, 21.41, 20.61, 19.81, 19.03, 18.25, 17.48, 16.73, 15.99, 15.26,\n",
    "        14.54, 13.84, 13.14, 12.46, 11.78, 11.12, 10.47, 9.86, 9.26, 8.68,\n",
    "        8.12, 7.60, 7.08, 6.60, 6.12, 5.68, 5.25, 4.85, 4.48, 4.14, 3.81,\n",
    "        3.52, 3.25, 3.00, 2.78, 2.57, 2.40, 2.22, 2.07, 1.91, 1.8\n",
    "],\n",
    "    years_remaining_females=[\n",
    "        82.57, 81.86, 80.88, 79.89, 78.90, 77.90, 76.91, 75.91, 74.92, 73.92,\n",
    "        72.92, 71.93, 70.93, 69.94, 68.94, 67.95, 66.96, 65.97, 64.98, 63.99,\n",
    "        63.00, 62.01, 61.03, 60.04, 59.06, 58.07, 57.08, 56.10, 55.12, 54.13,\n",
    "        53.15, 52.17, 51.19, 50.21, 49.24, 48.27, 47.30, 46.33, 45.36, 44.40,\n",
    "        43.44, 42.48, 41.53, 40.58, 39.63, 38.68, 37.74, 36.80, 35.87, 34.94,\n",
    "        34.02, 33.10, 32.18, 31.27, 30.36, 29.46, 28.56, 27.66, 26.78, 25.89,\n",
    "        25.02, 24.15, 23.29, 22.44, 21.60, 20.76, 19.93, 19.12, 18.31, 17.51,\n",
    "        16.72, 15.94, 15.17, 14.41, 13.66, 12.92, 12.20, 11.51, 10.83, 10.16,\n",
    "        9.53, 8.91, 8.32, 7.75, 7.20, 6.67, 6.17, 5.70, 5.26, 4.85, 4.47, 4.11,\n",
    "        3.78, 3.49, 3.23, 2.97, 2.74, 2.54, 2.35, 2.20, 2.04\n",
    "])\n"
   ]
  },
  {
   "cell_type": "markdown",
   "metadata": {},
   "source": [
    "##### Baseline simulation parameters"
   ]
  },
  {
   "cell_type": "code",
   "execution_count": 3,
   "metadata": {},
   "outputs": [],
   "source": [
    "sim_pars = dict(\n",
    "        use_waning    = True,           \n",
    "        pop_size      = 5000,       \n",
    "        pop_type      = 'behaviour_module',      \n",
    "        n_days        = 100,            \n",
    "        verbose       = 0,             \n",
    "        rand_seed     = 42,\n",
    "        burden        = inf.Burden(life_expectancy=le_UK) # this will compute burden/utility statistics and report them in results and summary                \n",
    "    )  "
   ]
  },
  {
   "cell_type": "markdown",
   "metadata": {},
   "source": [
    "##### Intervention packages\n",
    "We define two different intervention packages which each consist of several interventions. The effect of each intervention is specified in:\n",
    "\n",
    "- \"data/effects_npis.json\"\n",
    "- \"data/effects_therapeutics.json\""
   ]
  },
  {
   "cell_type": "code",
   "execution_count": 4,
   "metadata": {},
   "outputs": [],
   "source": [
    "# intervention packages (stored as dict)\n",
    "packages = {\n",
    "    \"medium\" : [inf.intervention_bucket(strength='medium')],\n",
    "    \"strong\" : [inf.intervention_bucket(strength='strong')]\n",
    "}"
   ]
  },
  {
   "cell_type": "markdown",
   "metadata": {},
   "source": [
    "##### Events\n",
    "\n",
    "The events are chosen to decide which interventions are to be considered, and how/when. There are currently 4 main ways to do this, represented by 4 different Event classes:\n",
    "\n",
    "* FixedEvent - the event is scheduled for a predetermined time (parameters: name, t_event)\n",
    "* DelayedTrigger - the event is scheduled at a certain time after another event, the \"trigger\" (parameters: name, start_delay, stop_delay, trigger_event)\n",
    "* RatioEvent - schedules a start (and stop) event at a certain ratio of infections of the susceptible population (parameters: name, start_delay, stop_delay, start_threshold, stop_threshold)\n",
    "* RateEvent - schedules a start (and stop) event at a certain rate of increase in cases (parameters: name, start_delay, stop_delay, start_threshold, stop_threshold)\n",
    "\n",
    "To see which events will be read by the intervention bucket, and therefore activated, see \"data/effects_npis.json\" and \"data/effects_therapeutics.json\""
   ]
  },
  {
   "cell_type": "code",
   "execution_count": 5,
   "metadata": {},
   "outputs": [],
   "source": [
    "# Then, create events for the interventions to be considered\n",
    "school_closure_ev = inf.RateEvent('school closure', start_delay=7, stop_delay=7, start_threshold=0.001, stop_threshold=0.0002)\n",
    "home_office_ev = inf.RateEvent('home office', start_delay=2, stop_delay=2, start_threshold=0.001, stop_threshold=0.0002)\n",
    "mask_mandate_ev = inf.DelayedTrigger('mask mandate', start_delay=5, stop_delay=None, trigger_event='detection')\n",
    "\n",
    "all_events = [school_closure_ev, home_office_ev, mask_mandate_ev]"
   ]
  },
  {
   "cell_type": "markdown",
   "metadata": {},
   "source": [
    "##### Pathogen"
   ]
  },
  {
   "cell_type": "code",
   "execution_count": 6,
   "metadata": {},
   "outputs": [],
   "source": [
    "pathogen = inf.SARS_COV_2(10)\n",
    "pathogen.configure_hrql_loss(loss_symptomatic=0.43/365, loss_severe=(0.43+0.5)/365, loss_critical=(0.43+0.6)/365)"
   ]
  },
  {
   "cell_type": "markdown",
   "metadata": {},
   "source": [
    "##### Set up counterfactual simulation"
   ]
  },
  {
   "cell_type": "code",
   "execution_count": 7,
   "metadata": {},
   "outputs": [],
   "source": [
    "cf = inf.CounterfactualMultiSim(sim_pars, pathogens = [pathogen], events=all_events, intervention_packages=packages, n_sims=5, maxcpu=0.9, maxmem = 0.9, parallelize = True)"
   ]
  },
  {
   "cell_type": "markdown",
   "metadata": {},
   "source": [
    "Run the baseline scenario (no interventions). This also checks whether a larger epidemic occurs in the simulated scenario and determines a realistic range of detection times."
   ]
  },
  {
   "cell_type": "code",
   "execution_count": 8,
   "metadata": {},
   "outputs": [],
   "source": [
    "cf.run_baseline(verbose = True)"
   ]
  },
  {
   "cell_type": "code",
   "execution_count": 9,
   "metadata": {},
   "outputs": [
    {
     "name": "stdout",
     "output_type": "stream",
     "text": [
      "Sim(<no label>; 2020-03-01 to 2020-06-09; pop: 5000 behaviour_module; epi: 9284⚙, 41☠)\n",
      "Detection range: [{'lower': 8.0, 'upper': 23}]\n",
      "Is epidemic: [True]\n"
     ]
    }
   ],
   "source": [
    "i = 0\n",
    "print(cf.sims[i].sim_baseline)\n",
    "print(f\"Detection range: {cf.sims[i].sim_baseline.get_detection_ranges()}\")\n",
    "print(f\"Is epidemic: {cf.sims[i].sim_baseline.is_epidemic()}\")"
   ]
  },
  {
   "cell_type": "markdown",
   "metadata": {},
   "source": [
    "You can also get a summary of the baseline simulation in the form of a pandas dataframe."
   ]
  },
  {
   "cell_type": "code",
   "execution_count": 10,
   "metadata": {},
   "outputs": [
    {
     "data": {
      "text/html": [
       "<div>\n",
       "<style scoped>\n",
       "    .dataframe tbody tr th:only-of-type {\n",
       "        vertical-align: middle;\n",
       "    }\n",
       "\n",
       "    .dataframe tbody tr th {\n",
       "        vertical-align: top;\n",
       "    }\n",
       "\n",
       "    .dataframe thead th {\n",
       "        text-align: right;\n",
       "    }\n",
       "</style>\n",
       "<table border=\"1\" class=\"dataframe\">\n",
       "  <thead>\n",
       "    <tr style=\"text-align: right;\">\n",
       "      <th></th>\n",
       "      <th>pathogen</th>\n",
       "      <th>cum_infections</th>\n",
       "      <th>cum_reinfections</th>\n",
       "      <th>cum_infectious</th>\n",
       "      <th>cum_symptomatic</th>\n",
       "      <th>cum_severe</th>\n",
       "      <th>cum_critical</th>\n",
       "      <th>cum_recoveries</th>\n",
       "      <th>cum_deaths</th>\n",
       "      <th>cum_tests</th>\n",
       "      <th>...</th>\n",
       "      <th>rel_test_yield</th>\n",
       "      <th>frac_vaccinated</th>\n",
       "      <th>pop_imm</th>\n",
       "      <th>pop_nabs</th>\n",
       "      <th>pop_protection</th>\n",
       "      <th>pop_symp_protection</th>\n",
       "      <th>new_diagnoses_custom</th>\n",
       "      <th>cum_diagnoses_custom</th>\n",
       "      <th>tot_yll</th>\n",
       "      <th>tot_hrql_loss</th>\n",
       "    </tr>\n",
       "  </thead>\n",
       "  <tbody>\n",
       "    <tr>\n",
       "      <th>0</th>\n",
       "      <td>0</td>\n",
       "      <td>9284.0</td>\n",
       "      <td>4289.0</td>\n",
       "      <td>9169.0</td>\n",
       "      <td>5309.0</td>\n",
       "      <td>328.0</td>\n",
       "      <td>107.0</td>\n",
       "      <td>8903.0</td>\n",
       "      <td>41.0</td>\n",
       "      <td>0.0</td>\n",
       "      <td>...</td>\n",
       "      <td>0.0</td>\n",
       "      <td>0.0</td>\n",
       "      <td>0.0</td>\n",
       "      <td>4.397622</td>\n",
       "      <td>0.819455</td>\n",
       "      <td>0.329671</td>\n",
       "      <td>0.0</td>\n",
       "      <td>0.0</td>\n",
       "      <td>482.47</td>\n",
       "      <td>65.579699</td>\n",
       "    </tr>\n",
       "  </tbody>\n",
       "</table>\n",
       "<p>1 rows × 64 columns</p>\n",
       "</div>"
      ],
      "text/plain": [
       "   pathogen  cum_infections  cum_reinfections  cum_infectious  \\\n",
       "0         0          9284.0            4289.0          9169.0   \n",
       "\n",
       "   cum_symptomatic  cum_severe  cum_critical  cum_recoveries  cum_deaths  \\\n",
       "0           5309.0       328.0         107.0          8903.0        41.0   \n",
       "\n",
       "   cum_tests  ...  rel_test_yield  frac_vaccinated  pop_imm  pop_nabs  \\\n",
       "0        0.0  ...             0.0              0.0      0.0  4.397622   \n",
       "\n",
       "   pop_protection  pop_symp_protection  new_diagnoses_custom  \\\n",
       "0        0.819455             0.329671                   0.0   \n",
       "\n",
       "   cum_diagnoses_custom  tot_yll  tot_hrql_loss  \n",
       "0                   0.0   482.47      65.579699  \n",
       "\n",
       "[1 rows x 64 columns]"
      ]
     },
     "execution_count": 10,
     "metadata": {},
     "output_type": "execute_result"
    }
   ],
   "source": [
    "cf.sims[i].summary_baseline"
   ]
  },
  {
   "cell_type": "markdown",
   "metadata": {},
   "source": [
    "##### Run counterfactual simulations\n",
    "To run a counterfactual simulation, you have to specify which intervention package should be used and what detection time to assume.\n",
    "\n",
    "The simulations are parallelized across seeds. (Parallelized simulation may not be compatible with current implementation of events, and should not be used until it has been checked again)"
   ]
  },
  {
   "cell_type": "code",
   "execution_count": 12,
   "metadata": {},
   "outputs": [
    {
     "name": "stdout",
     "output_type": "stream",
     "text": [
      "Running counterfactual (seed 42) for intervention package \"medium\" with detection time 2.\n",
      "Running counterfactual (seed 42) for intervention package \"medium\" with detection time 4.\n",
      "Running counterfactual (seed 43) for intervention package \"medium\" with detection time 2.\n",
      "Running counterfactual (seed 43) for intervention package \"medium\" with detection time 4.\n",
      "Running counterfactual (seed 44) for intervention package \"medium\" with detection time 2.\n",
      "Running counterfactual (seed 44) for intervention package \"medium\" with detection time 4.\n",
      "Running counterfactual (seed 45) for intervention package \"medium\" with detection time 2.\n",
      "Running counterfactual (seed 45) for intervention package \"medium\" with detection time 4.\n",
      "Running counterfactual (seed 46) for intervention package \"medium\" with detection time 2.\n",
      "Running counterfactual (seed 46) for intervention package \"medium\" with detection time 4.\n"
     ]
    }
   ],
   "source": [
    "cf.run_counterfactual(intervention_package_key=\"medium\", detection_times=[2, 4], verbose = True, parallelize=False)"
   ]
  },
  {
   "cell_type": "markdown",
   "metadata": {},
   "source": [
    "##### Scan detection times with counterfactual simulation"
   ]
  },
  {
   "cell_type": "markdown",
   "metadata": {},
   "source": [
    "This performs a scan over the detection range identified from the baseline simulation. The range is divided into parts according to `n_steps`.\n",
    "\n",
    "You can leave out `intervention_package_keys` (or set it to `None`), in which case the detection time scan will be run for all packages."
   ]
  },
  {
   "cell_type": "markdown",
   "metadata": {},
   "source": [
    "If you run a lot of simulations, it is advisable to use the argument `store_sims = False`. In this case, only the summaries are stored to reduce the overall memory demand."
   ]
  },
  {
   "cell_type": "code",
   "execution_count": 52,
   "metadata": {},
   "outputs": [],
   "source": [
    "#cf.scan_detection_range(detection_event = detection_event, n_steps = 10, store_sims = False, parallelize = False, verbose = True)"
   ]
  },
  {
   "cell_type": "code",
   "execution_count": 13,
   "metadata": {},
   "outputs": [
    {
     "name": "stdout",
     "output_type": "stream",
     "text": [
      "Running counterfactual (seed 42) for intervention package \"medium\" with detection time 8.\n",
      "Running counterfactual (seed 42) for intervention package \"medium\" with detection time 16.\n",
      "Running counterfactual (seed 42) for intervention package \"medium\" with detection time 23.\n",
      "Running counterfactual (seed 42) for intervention package \"strong\" with detection time 8.\n",
      "Running counterfactual (seed 42) for intervention package \"strong\" with detection time 16.\n",
      "Running counterfactual (seed 42) for intervention package \"strong\" with detection time 23.\n",
      "Running counterfactual (seed 43) for intervention package \"medium\" with detection time 5.\n",
      "Running counterfactual (seed 43) for intervention package \"medium\" with detection time 15.\n",
      "Running counterfactual (seed 43) for intervention package \"medium\" with detection time 25.\n",
      "Running counterfactual (seed 43) for intervention package \"strong\" with detection time 5.\n",
      "Running counterfactual (seed 43) for intervention package \"strong\" with detection time 15.\n",
      "Running counterfactual (seed 43) for intervention package \"strong\" with detection time 25.\n",
      "Running counterfactual (seed 44) for intervention package \"medium\" with detection time 4.\n",
      "Running counterfactual (seed 44) for intervention package \"medium\" with detection time 16.\n",
      "Running counterfactual (seed 44) for intervention package \"medium\" with detection time 27.\n",
      "Running counterfactual (seed 44) for intervention package \"strong\" with detection time 4.\n",
      "Running counterfactual (seed 44) for intervention package \"strong\" with detection time 16.\n",
      "Running counterfactual (seed 44) for intervention package \"strong\" with detection time 27.\n",
      "Running counterfactual (seed 45) for intervention package \"medium\" with detection time 4.\n",
      "Running counterfactual (seed 45) for intervention package \"medium\" with detection time 14.\n",
      "Running counterfactual (seed 45) for intervention package \"medium\" with detection time 25.\n",
      "Running counterfactual (seed 45) for intervention package \"strong\" with detection time 4.\n",
      "Running counterfactual (seed 45) for intervention package \"strong\" with detection time 14.\n",
      "Running counterfactual (seed 45) for intervention package \"strong\" with detection time 25.\n",
      "Running counterfactual (seed 46) for intervention package \"medium\" with detection time 9.\n",
      "Running counterfactual (seed 46) for intervention package \"medium\" with detection time 16.\n",
      "Running counterfactual (seed 46) for intervention package \"medium\" with detection time 24.\n",
      "Running counterfactual (seed 46) for intervention package \"strong\" with detection time 9.\n",
      "Running counterfactual (seed 46) for intervention package \"strong\" with detection time 16.\n",
      "Running counterfactual (seed 46) for intervention package \"strong\" with detection time 24.\n"
     ]
    }
   ],
   "source": [
    "cf.scan_detection_range(n_steps = 3, parallelize = False, verbose = True)"
   ]
  },
  {
   "cell_type": "code",
   "execution_count": 15,
   "metadata": {},
   "outputs": [
    {
     "data": {
      "text/html": [
       "<div>\n",
       "<style scoped>\n",
       "    .dataframe tbody tr th:only-of-type {\n",
       "        vertical-align: middle;\n",
       "    }\n",
       "\n",
       "    .dataframe tbody tr th {\n",
       "        vertical-align: top;\n",
       "    }\n",
       "\n",
       "    .dataframe thead th {\n",
       "        text-align: right;\n",
       "    }\n",
       "</style>\n",
       "<table border=\"1\" class=\"dataframe\">\n",
       "  <thead>\n",
       "    <tr style=\"text-align: right;\">\n",
       "      <th></th>\n",
       "      <th>seed</th>\n",
       "      <th>intervention_package</th>\n",
       "      <th>delay</th>\n",
       "      <th>cum_deaths</th>\n",
       "    </tr>\n",
       "  </thead>\n",
       "  <tbody>\n",
       "    <tr>\n",
       "      <th>0</th>\n",
       "      <td>42</td>\n",
       "      <td>baseline</td>\n",
       "      <td>0</td>\n",
       "      <td>41.0</td>\n",
       "    </tr>\n",
       "    <tr>\n",
       "      <th>0</th>\n",
       "      <td>42</td>\n",
       "      <td>medium</td>\n",
       "      <td>8</td>\n",
       "      <td>36.0</td>\n",
       "    </tr>\n",
       "    <tr>\n",
       "      <th>0</th>\n",
       "      <td>42</td>\n",
       "      <td>medium</td>\n",
       "      <td>16</td>\n",
       "      <td>35.0</td>\n",
       "    </tr>\n",
       "    <tr>\n",
       "      <th>0</th>\n",
       "      <td>42</td>\n",
       "      <td>medium</td>\n",
       "      <td>23</td>\n",
       "      <td>33.0</td>\n",
       "    </tr>\n",
       "    <tr>\n",
       "      <th>0</th>\n",
       "      <td>42</td>\n",
       "      <td>strong</td>\n",
       "      <td>8</td>\n",
       "      <td>30.0</td>\n",
       "    </tr>\n",
       "    <tr>\n",
       "      <th>0</th>\n",
       "      <td>42</td>\n",
       "      <td>strong</td>\n",
       "      <td>16</td>\n",
       "      <td>29.0</td>\n",
       "    </tr>\n",
       "    <tr>\n",
       "      <th>0</th>\n",
       "      <td>42</td>\n",
       "      <td>strong</td>\n",
       "      <td>23</td>\n",
       "      <td>33.0</td>\n",
       "    </tr>\n",
       "    <tr>\n",
       "      <th>0</th>\n",
       "      <td>43</td>\n",
       "      <td>baseline</td>\n",
       "      <td>0</td>\n",
       "      <td>38.0</td>\n",
       "    </tr>\n",
       "    <tr>\n",
       "      <th>0</th>\n",
       "      <td>43</td>\n",
       "      <td>medium</td>\n",
       "      <td>5</td>\n",
       "      <td>27.0</td>\n",
       "    </tr>\n",
       "    <tr>\n",
       "      <th>0</th>\n",
       "      <td>43</td>\n",
       "      <td>medium</td>\n",
       "      <td>15</td>\n",
       "      <td>30.0</td>\n",
       "    </tr>\n",
       "    <tr>\n",
       "      <th>0</th>\n",
       "      <td>43</td>\n",
       "      <td>medium</td>\n",
       "      <td>25</td>\n",
       "      <td>37.0</td>\n",
       "    </tr>\n",
       "    <tr>\n",
       "      <th>0</th>\n",
       "      <td>43</td>\n",
       "      <td>strong</td>\n",
       "      <td>5</td>\n",
       "      <td>21.0</td>\n",
       "    </tr>\n",
       "    <tr>\n",
       "      <th>0</th>\n",
       "      <td>43</td>\n",
       "      <td>strong</td>\n",
       "      <td>15</td>\n",
       "      <td>37.0</td>\n",
       "    </tr>\n",
       "    <tr>\n",
       "      <th>0</th>\n",
       "      <td>43</td>\n",
       "      <td>strong</td>\n",
       "      <td>25</td>\n",
       "      <td>34.0</td>\n",
       "    </tr>\n",
       "    <tr>\n",
       "      <th>0</th>\n",
       "      <td>44</td>\n",
       "      <td>baseline</td>\n",
       "      <td>0</td>\n",
       "      <td>36.0</td>\n",
       "    </tr>\n",
       "    <tr>\n",
       "      <th>0</th>\n",
       "      <td>44</td>\n",
       "      <td>medium</td>\n",
       "      <td>4</td>\n",
       "      <td>33.0</td>\n",
       "    </tr>\n",
       "    <tr>\n",
       "      <th>0</th>\n",
       "      <td>44</td>\n",
       "      <td>medium</td>\n",
       "      <td>16</td>\n",
       "      <td>32.0</td>\n",
       "    </tr>\n",
       "    <tr>\n",
       "      <th>0</th>\n",
       "      <td>44</td>\n",
       "      <td>medium</td>\n",
       "      <td>27</td>\n",
       "      <td>33.0</td>\n",
       "    </tr>\n",
       "    <tr>\n",
       "      <th>0</th>\n",
       "      <td>44</td>\n",
       "      <td>strong</td>\n",
       "      <td>4</td>\n",
       "      <td>34.0</td>\n",
       "    </tr>\n",
       "    <tr>\n",
       "      <th>0</th>\n",
       "      <td>44</td>\n",
       "      <td>strong</td>\n",
       "      <td>16</td>\n",
       "      <td>35.0</td>\n",
       "    </tr>\n",
       "    <tr>\n",
       "      <th>0</th>\n",
       "      <td>44</td>\n",
       "      <td>strong</td>\n",
       "      <td>27</td>\n",
       "      <td>28.0</td>\n",
       "    </tr>\n",
       "    <tr>\n",
       "      <th>0</th>\n",
       "      <td>45</td>\n",
       "      <td>baseline</td>\n",
       "      <td>0</td>\n",
       "      <td>34.0</td>\n",
       "    </tr>\n",
       "    <tr>\n",
       "      <th>0</th>\n",
       "      <td>45</td>\n",
       "      <td>medium</td>\n",
       "      <td>4</td>\n",
       "      <td>32.0</td>\n",
       "    </tr>\n",
       "    <tr>\n",
       "      <th>0</th>\n",
       "      <td>45</td>\n",
       "      <td>medium</td>\n",
       "      <td>14</td>\n",
       "      <td>29.0</td>\n",
       "    </tr>\n",
       "    <tr>\n",
       "      <th>0</th>\n",
       "      <td>45</td>\n",
       "      <td>medium</td>\n",
       "      <td>25</td>\n",
       "      <td>29.0</td>\n",
       "    </tr>\n",
       "    <tr>\n",
       "      <th>0</th>\n",
       "      <td>45</td>\n",
       "      <td>strong</td>\n",
       "      <td>4</td>\n",
       "      <td>34.0</td>\n",
       "    </tr>\n",
       "    <tr>\n",
       "      <th>0</th>\n",
       "      <td>45</td>\n",
       "      <td>strong</td>\n",
       "      <td>14</td>\n",
       "      <td>25.0</td>\n",
       "    </tr>\n",
       "    <tr>\n",
       "      <th>0</th>\n",
       "      <td>45</td>\n",
       "      <td>strong</td>\n",
       "      <td>25</td>\n",
       "      <td>28.0</td>\n",
       "    </tr>\n",
       "    <tr>\n",
       "      <th>0</th>\n",
       "      <td>46</td>\n",
       "      <td>baseline</td>\n",
       "      <td>0</td>\n",
       "      <td>38.0</td>\n",
       "    </tr>\n",
       "    <tr>\n",
       "      <th>0</th>\n",
       "      <td>46</td>\n",
       "      <td>medium</td>\n",
       "      <td>9</td>\n",
       "      <td>39.0</td>\n",
       "    </tr>\n",
       "    <tr>\n",
       "      <th>0</th>\n",
       "      <td>46</td>\n",
       "      <td>medium</td>\n",
       "      <td>16</td>\n",
       "      <td>38.0</td>\n",
       "    </tr>\n",
       "    <tr>\n",
       "      <th>0</th>\n",
       "      <td>46</td>\n",
       "      <td>medium</td>\n",
       "      <td>24</td>\n",
       "      <td>37.0</td>\n",
       "    </tr>\n",
       "    <tr>\n",
       "      <th>0</th>\n",
       "      <td>46</td>\n",
       "      <td>strong</td>\n",
       "      <td>9</td>\n",
       "      <td>38.0</td>\n",
       "    </tr>\n",
       "    <tr>\n",
       "      <th>0</th>\n",
       "      <td>46</td>\n",
       "      <td>strong</td>\n",
       "      <td>16</td>\n",
       "      <td>28.0</td>\n",
       "    </tr>\n",
       "    <tr>\n",
       "      <th>0</th>\n",
       "      <td>46</td>\n",
       "      <td>strong</td>\n",
       "      <td>24</td>\n",
       "      <td>36.0</td>\n",
       "    </tr>\n",
       "  </tbody>\n",
       "</table>\n",
       "</div>"
      ],
      "text/plain": [
       "   seed intervention_package  delay  cum_deaths\n",
       "0    42             baseline      0        41.0\n",
       "0    42               medium      8        36.0\n",
       "0    42               medium     16        35.0\n",
       "0    42               medium     23        33.0\n",
       "0    42               strong      8        30.0\n",
       "0    42               strong     16        29.0\n",
       "0    42               strong     23        33.0\n",
       "0    43             baseline      0        38.0\n",
       "0    43               medium      5        27.0\n",
       "0    43               medium     15        30.0\n",
       "0    43               medium     25        37.0\n",
       "0    43               strong      5        21.0\n",
       "0    43               strong     15        37.0\n",
       "0    43               strong     25        34.0\n",
       "0    44             baseline      0        36.0\n",
       "0    44               medium      4        33.0\n",
       "0    44               medium     16        32.0\n",
       "0    44               medium     27        33.0\n",
       "0    44               strong      4        34.0\n",
       "0    44               strong     16        35.0\n",
       "0    44               strong     27        28.0\n",
       "0    45             baseline      0        34.0\n",
       "0    45               medium      4        32.0\n",
       "0    45               medium     14        29.0\n",
       "0    45               medium     25        29.0\n",
       "0    45               strong      4        34.0\n",
       "0    45               strong     14        25.0\n",
       "0    45               strong     25        28.0\n",
       "0    46             baseline      0        38.0\n",
       "0    46               medium      9        39.0\n",
       "0    46               medium     16        38.0\n",
       "0    46               medium     24        37.0\n",
       "0    46               strong      9        38.0\n",
       "0    46               strong     16        28.0\n",
       "0    46               strong     24        36.0"
      ]
     },
     "execution_count": 15,
     "metadata": {},
     "output_type": "execute_result"
    }
   ],
   "source": [
    "cf.get_summaries_df()[[\"seed\", \"intervention_package\", \"delay\", \"cum_deaths\"]]\n",
    "#cf.get_summaries_df()"
   ]
  }
 ],
 "metadata": {
  "kernelspec": {
   "display_name": "Python 3 (ipykernel)",
   "language": "python",
   "name": "python3"
  },
  "language_info": {
   "codemirror_mode": {
    "name": "ipython",
    "version": 3
   },
   "file_extension": ".py",
   "mimetype": "text/x-python",
   "name": "python",
   "nbconvert_exporter": "python",
   "pygments_lexer": "ipython3",
   "version": "3.8.10"
  }
 },
 "nbformat": 4,
 "nbformat_minor": 4
}
