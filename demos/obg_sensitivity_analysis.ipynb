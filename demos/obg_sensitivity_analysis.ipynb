{
 "cells": [
  {
   "cell_type": "markdown",
   "id": "748da4c8-61ae-44f5-b311-38e02580ec12",
   "metadata": {},
   "source": [
    "# Sensitivity analysis for OBG early detection project\n",
    "\n",
    "This notebook is designed to help perform a sensitivity analysis for QALY outcomes across a range of values for several parameters in pathosim."
   ]
  },
  {
   "cell_type": "code",
   "execution_count": null,
   "id": "ff83a076-6b46-4dc6-aef2-fe34ed104452",
   "metadata": {},
   "outputs": [],
   "source": [
    "import pathosim as inf\n",
    "import sciris as sc\n",
    "import numpy as np\n",
    "import time\n",
    "import math"
   ]
  },
  {
   "cell_type": "markdown",
   "id": "0dec2e05-ad1f-49ff-b059-eea87be3c9cf",
   "metadata": {},
   "source": [
    "##### Hyperparameters"
   ]
  },
  {
   "cell_type": "code",
   "execution_count": null,
   "id": "09a563a1-e370-4f93-a847-b1f7b855a736",
   "metadata": {},
   "outputs": [],
   "source": [
    "n = 1                # Number of simulations for each scenario\n",
    "init_inf = 10        # Number of initially infected people\n",
    "pop_size = 5000      # Size of the population\n",
    "n_days = 100         # How many days to run each simulation for\n",
    "maxcpu = 0.9\n",
    "maxmem = 0.9\n",
    "parallelize = False  # Parallelization may still have some compatibility issues with the Events class, so keep this as False for now\n",
    "store_sims = False\n",
    "base_ifr = 0.01      # The IFR represented by the default SARS-CoV-2 model in pathosim THIS IS ONLY PROVISIONAL, HOW TO ACTUALLY CALCULATE THIS?\n",
    "avg_contacts = 50    # Average number of contacts, needed to configure transmission rate THIS HAS TO BE SET BASED ON THE POPULATION MODULE"
   ]
  },
  {
   "cell_type": "markdown",
   "id": "c2cc05e3-58a6-48e5-8e36-dc1f48afafd3",
   "metadata": {},
   "source": [
    "##### Sensitivity analysis parameters\n",
    "\n",
    "The sensitivity analysis will be run over all permutations of these parameters"
   ]
  },
  {
   "cell_type": "code",
   "execution_count": null,
   "id": "cc33e9c1-4677-4f28-b98c-dff6b2ce4a1c",
   "metadata": {},
   "outputs": [],
   "source": [
    "# Situational parameters\n",
    "ttd = [4, 7, 10]                           # Time to detection (rounded from [4.2, 7.0, 9.7])\n",
    "response = ['weak']#, 'medium', 'strong']\n",
    "ttr = [0]                                  # Time to response\n",
    "\n",
    "# Pathogen parameters\n",
    "ifr = [0.004, 0.009, 0.014]                # Infection fatality rate (IFR)\n",
    "incubation = [0.6, 4.0, 5.6]               # Incubation period (low number gives divide by 0-warnings when running the simulations)\n",
    "beta = [0.91, 2.3, 4.5]                    # Transmission rate"
   ]
  },
  {
   "cell_type": "markdown",
   "id": "8d6bf66f-57da-44cd-a8bc-4c854664649f",
   "metadata": {},
   "source": [
    "##### Inputs\n",
    "\n",
    "Life expectancy table for the UK population (taken from National life tables 2020 to 2022, Office for National Statistics). We use the expected residual life (remaining years) at a given age (from age 0 to 100). This allows us to measure the burden of disease in metrics such as Years of Life Lost (YLL)."
   ]
  },
  {
   "cell_type": "code",
   "execution_count": null,
   "id": "6f334dcc-99e6-459b-9fab-bcf86e195931",
   "metadata": {},
   "outputs": [],
   "source": [
    "le_UK = inf.LifeExpectancy(\n",
    "    years_remaining_males=[\n",
    "        78.57, 77.91, 76.93, 75.94, 74.95, 73.96, 72.96, 71.97, 70.97, 69.98,\n",
    "        68.98, 67.99, 66.99, 66.00, 65.01, 64.01, 63.02, 62.04, 61.06, 60.08,\n",
    "        59.11, 58.14, 57.17, 56.20, 55.23, 54.26, 53.29, 52.33, 51.36, 50.39,\n",
    "        49.43, 48.47, 47.51, 46.55, 45.60, 44.65, 43.69, 42.75, 41.81, 40.86,\n",
    "        39.93, 39.00, 38.07, 37.14, 36.22, 35.30, 34.39, 33.48, 32.58, 31.69,\n",
    "        30.80, 29.92, 29.04, 28.17, 27.30, 26.43, 25.58, 24.73, 23.89, 23.05,\n",
    "        22.23, 21.41, 20.61, 19.81, 19.03, 18.25, 17.48, 16.73, 15.99, 15.26,\n",
    "        14.54, 13.84, 13.14, 12.46, 11.78, 11.12, 10.47, 9.86, 9.26, 8.68,\n",
    "        8.12, 7.60, 7.08, 6.60, 6.12, 5.68, 5.25, 4.85, 4.48, 4.14, 3.81,\n",
    "        3.52, 3.25, 3.00, 2.78, 2.57, 2.40, 2.22, 2.07, 1.91, 1.8\n",
    "],\n",
    "    years_remaining_females=[\n",
    "        82.57, 81.86, 80.88, 79.89, 78.90, 77.90, 76.91, 75.91, 74.92, 73.92,\n",
    "        72.92, 71.93, 70.93, 69.94, 68.94, 67.95, 66.96, 65.97, 64.98, 63.99,\n",
    "        63.00, 62.01, 61.03, 60.04, 59.06, 58.07, 57.08, 56.10, 55.12, 54.13,\n",
    "        53.15, 52.17, 51.19, 50.21, 49.24, 48.27, 47.30, 46.33, 45.36, 44.40,\n",
    "        43.44, 42.48, 41.53, 40.58, 39.63, 38.68, 37.74, 36.80, 35.87, 34.94,\n",
    "        34.02, 33.10, 32.18, 31.27, 30.36, 29.46, 28.56, 27.66, 26.78, 25.89,\n",
    "        25.02, 24.15, 23.29, 22.44, 21.60, 20.76, 19.93, 19.12, 18.31, 17.51,\n",
    "        16.72, 15.94, 15.17, 14.41, 13.66, 12.92, 12.20, 11.51, 10.83, 10.16,\n",
    "        9.53, 8.91, 8.32, 7.75, 7.20, 6.67, 6.17, 5.70, 5.26, 4.85, 4.47, 4.11,\n",
    "        3.78, 3.49, 3.23, 2.97, 2.74, 2.54, 2.35, 2.20, 2.04\n",
    "])"
   ]
  },
  {
   "cell_type": "markdown",
   "id": "fe7f3a07-fd70-4d4d-9beb-1e672f34558c",
   "metadata": {},
   "source": [
    "##### Baseline simulation parameters"
   ]
  },
  {
   "cell_type": "code",
   "execution_count": null,
   "id": "404e7916-96ca-4a1a-8929-b1c5d7ea2582",
   "metadata": {},
   "outputs": [],
   "source": [
    "sim_pars = dict(\n",
    "        use_waning    = True,           \n",
    "        pop_size      = pop_size,       \n",
    "        pop_type      = 'behaviour_module',      \n",
    "        n_days        = n_days,            \n",
    "        verbose       = 0,             \n",
    "        rand_seed     = 42,\n",
    "        burden        = inf.Burden(life_expectancy=le_UK) # this will compute burden/utility statistics and report them in results and summary\n",
    "    ) "
   ]
  },
  {
   "cell_type": "markdown",
   "id": "da59ed83-d8d2-46c0-ad12-1932d48a5242",
   "metadata": {},
   "source": [
    "##### Pathogens\n",
    "\n",
    "Pathogens are generated in a 3-level dictionary where:\n",
    "- level 1: fatality rate\n",
    "- level 2: incubation period\n",
    "- level 3: transmission rate"
   ]
  },
  {
   "cell_type": "code",
   "execution_count": null,
   "id": "0ec04780-da20-4947-9b51-2b45f2ae7ac5",
   "metadata": {},
   "outputs": [],
   "source": [
    "pathogens = {}\n",
    "\n",
    "# Create pathogens from all permutations of IFR, incubation time and transmission rate\n",
    "for x in ifr:\n",
    "    pathogens[x] = {}\n",
    "    for y in incubation:\n",
    "        pathogens[x][y] = {}\n",
    "        for z in beta:\n",
    "            pathogen = inf.SARS_COV_2(init_inf)\n",
    "            pathogen.configure_hrql_loss(loss_symptomatic=0.43/365, loss_severe=(0.43+0.5)/365, loss_critical=(0.43+0.6)/365)\n",
    "\n",
    "            # Configure transmission rate\n",
    "            pathosim_beta = z * avg_contacts/pop_size\n",
    "            pathogen.configure_transmission(beta = pathosim_beta) \n",
    "\n",
    "            # Configure incubation time\n",
    "            pathogen.configure_disease_state_durations(exp2inf = dict(dist='lognormal_int', par1=y, par2=(y/4.5)*1.5))\n",
    "\n",
    "            # Configure IFR\n",
    "            prognoses_by_age = dict(\n",
    "                age_cutoffs   = np.array([0,       10,      20,      30,      40,      50,      60,      70,      80,      90,]), \n",
    "                sus_ORs       = np.array([0.34,    0.67,    1.00,    1.00,    1.00,    1.00,    1.24,    1.47,    1.47,    1.47]), \n",
    "                trans_ORs     = np.array([1.00,    1.00,    1.00,    1.00,    1.00,    1.00,    1.00,    1.00,    1.00,    1.00]), \n",
    "                comorbidities = np.array([1.00,    1.00,    1.00,    1.00,    1.00,    1.00,    1.00,    1.00,    1.00,    1.00]), \n",
    "                symp_probs    = np.array([0.50,    0.55,    0.60,    0.65,    0.70,    0.75,    0.80,    0.85,    0.90,    0.90]), \n",
    "                severe_probs  = np.array([0.00050, 0.00165, 0.00720, 0.02080, 0.03430, 0.07650, 0.13280, 0.20655, 0.24570, 0.24570]), \n",
    "                crit_probs    = np.array([0.00003, 0.00008, 0.00036, 0.00104, 0.00216, 0.00933, 0.03639, 0.08923, 0.17420, 0.17420]), \n",
    "                death_probs   = (x/base_ifr) * np.array([0.00002, 0.00002, 0.00010, 0.00032, 0.00098, 0.00265, 0.00766, 0.02439, 0.08292, 0.16190]), \n",
    "            ) \n",
    "            pathogen.configure_prognoses(prognoses_by_age, True)\n",
    "\n",
    "            pathogens[x][y][z] = pathogen"
   ]
  },
  {
   "cell_type": "markdown",
   "id": "47ad5b74-2a7e-4497-90df-9669c5ccf6f0",
   "metadata": {},
   "source": [
    "##### Interventions"
   ]
  },
  {
   "cell_type": "code",
   "execution_count": null,
   "id": "a400d9f5-a945-45a4-b314-e97c51f67b64",
   "metadata": {},
   "outputs": [],
   "source": [
    "# intervention packages (stored as dict)\n",
    "packages = {\n",
    "    \"weak\"   : [inf.intervention_bucket(strength='weak')],\n",
    "    \"medium\" : [inf.intervention_bucket(strength='medium')],\n",
    "    \"strong\" : [inf.intervention_bucket(strength='strong')]\n",
    "}"
   ]
  },
  {
   "cell_type": "markdown",
   "id": "9314360f-0070-4eda-afe1-13afaaddb363",
   "metadata": {},
   "source": [
    "##### Events"
   ]
  },
  {
   "cell_type": "code",
   "execution_count": null,
   "id": "a6b45061-62f4-4f29-8e7f-d5678c2b9a1c",
   "metadata": {},
   "outputs": [],
   "source": [
    "events = [inf.DelayedTrigger('social distancing', start_delay=1, stop_delay=None, trigger_event='detection')]"
   ]
  },
  {
   "cell_type": "markdown",
   "id": "b8f15dbf-163b-44ff-9bf7-f3996d74975e",
   "metadata": {},
   "source": [
    "##### Run baseline and counterfactual simulations\n",
    "\n",
    "The results are saved in a 4-level dictionary where the first 3 are the pathogen parameters as detailed above. The last level is the response delay. Set verbose to true if more detailed progress report is desired."
   ]
  },
  {
   "cell_type": "code",
   "execution_count": null,
   "id": "ee139f35-c8ed-4a00-bb13-09f428da6c6d",
   "metadata": {},
   "outputs": [],
   "source": [
    "verbose = True\n",
    "n_param_sets = len(ifr)*len(incubation)*len(beta)*len(ttr)\n",
    "start_time = time.time()\n",
    "\n",
    "result = {}\n",
    "k=0\n",
    "for x in ifr:\n",
    "    result[x] = {}\n",
    "    for y in incubation:\n",
    "        result[x][y] = {}\n",
    "        for z in beta:\n",
    "            result[x][y][z] = {}\n",
    "            for t in ttr:\n",
    "                k+=1\n",
    "                if verbose:\n",
    "                    print(\"\\n*******************************************************\\n\")\n",
    "                print(f\"Starting simulations for parameter set {k} of {n_param_sets}\")\n",
    "                if verbose:\n",
    "                    print(f\"\\nIFR: {x}\\nIncubation period: {y}\\nTransmission rate: {z}\\nResponse time: {t}\\n\")\n",
    "\n",
    "                # Set up response event according to ttr\n",
    "                events = [inf.DelayedTrigger('social distancing', start_delay=t, stop_delay=None, trigger_event='detection')]\n",
    "\n",
    "                # Set up simulations and run baseline results\n",
    "                cf = inf.CounterfactualMultiSim(sim_pars, pathogens = [pathogens[x][y][z]], events=events, intervention_packages=packages, n_sims=n, maxcpu=maxcpu, maxmem = maxmem, parallelize = parallelize)\n",
    "                cf.run_baseline(verbose = verbose)\n",
    "\n",
    "                # Run counterfactual results\n",
    "                for package in list(packages.keys()):\n",
    "                    if verbose:\n",
    "                        print(f\"Running counterfactual simulations for response: {package}\")\n",
    "                    cf.run_counterfactual(intervention_package_key = package, detection_times = ttd, store_sims = store_sims, verbose = False)\n",
    "\n",
    "                result[x][y][z][t] = cf.get_summaries_df()[[\"seed\", \"intervention_package\", \"delay\", \"cum_deaths\", \"tot_yll\", \"tot_hrql_loss\"]]\n",
    "\n",
    "dt = time.time() - start_time\n",
    "print(f\"\\nTotal computation time for {n_param_sets} parameter sets and {n} seeds per scenario was {math.floor(dt//3600):02d}:{math.floor((dt%3600)//60):02d}:{math.floor(dt%60):02d}\")"
   ]
  },
  {
   "cell_type": "markdown",
   "id": "67bc361b-8851-4998-a328-36dd034eddbd",
   "metadata": {},
   "source": [
    "The results for a particular pathogen and time to responseparameter set can now be retreived:"
   ]
  },
  {
   "cell_type": "code",
   "execution_count": null,
   "id": "7763d59d-e820-4f27-a57b-e1b74c8ed75f",
   "metadata": {},
   "outputs": [],
   "source": [
    "result[ifr[0]][incubation[0]][beta[0]][ttr[0]]"
   ]
  }
 ],
 "metadata": {
  "kernelspec": {
   "display_name": "Python 3 (ipykernel)",
   "language": "python",
   "name": "python3"
  },
  "language_info": {
   "codemirror_mode": {
    "name": "ipython",
    "version": 3
   },
   "file_extension": ".py",
   "mimetype": "text/x-python",
   "name": "python",
   "nbconvert_exporter": "python",
   "pygments_lexer": "ipython3",
   "version": "3.8.10"
  }
 },
 "nbformat": 4,
 "nbformat_minor": 5
}
