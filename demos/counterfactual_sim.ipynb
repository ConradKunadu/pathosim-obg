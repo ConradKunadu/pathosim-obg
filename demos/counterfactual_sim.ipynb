{
 "cells": [
  {
   "cell_type": "markdown",
   "metadata": {},
   "source": [
    "# Counterfactual simulation\n",
    "This notebook demonstrates how to do a counterfactual simulation across different interventions and detection times in pathosim."
   ]
  },
  {
   "cell_type": "code",
   "execution_count": 1,
   "metadata": {},
   "outputs": [
    {
     "name": "stdout",
     "output_type": "stream",
     "text": [
      "PathoSim 3.1.2 (2022-01-16) — © 2023 by McGill University\n"
     ]
    }
   ],
   "source": [
    "import unittest \n",
    "import pathosim as inf\n",
    "import sciris as sc\n",
    "import os\n",
    "import numpy as np\n",
    "    \n",
    "result_keys = [ \n",
    "    'n_infectious',  \n",
    "    'n_symptomatic', \n",
    "    'n_severe',       \n",
    "    'n_recovered',   \n",
    "    'n_dead']"
   ]
  },
  {
   "cell_type": "markdown",
   "metadata": {},
   "source": [
    "##### Baseline simulation parameters"
   ]
  },
  {
   "cell_type": "code",
   "execution_count": 2,
   "metadata": {},
   "outputs": [],
   "source": [
    "sim_pars = dict(\n",
    "        use_waning    = True,           \n",
    "        pop_size      = 5000,       \n",
    "        pop_type      = 'behaviour_module',      \n",
    "        n_days        = 100,            \n",
    "        verbose       = 0,             \n",
    "        rand_seed     = 42,                        \n",
    "    )  "
   ]
  },
  {
   "cell_type": "markdown",
   "metadata": {},
   "source": [
    "##### Intervention packages\n",
    "We define two different intervention packages which each consist of several interventions"
   ]
  },
  {
   "cell_type": "code",
   "execution_count": 3,
   "metadata": {},
   "outputs": [],
   "source": [
    "\n",
    "# interventions\n",
    "school_closure = inf.change_beta(days=[40], changes=[0], layers='s')\n",
    "home_office = inf.change_beta(days=[20], changes=[0.2], layers='w')\n",
    "event_cancellation = inf.change_beta(days=[20], changes=[0.8], layers='c')\n",
    "event_and_business_closure = inf.change_beta(days=[40], changes=[0.3], layers='c') # currently, we cannot combine several change_betas at the same layer, so they have to be combined a priori\n",
    "\n",
    "# intervention packages (stored as dict)\n",
    "packages = {\n",
    "    \"medium\" : [home_office, event_cancellation],\n",
    "    \"strong\" : [home_office, event_and_business_closure, school_closure]\n",
    "}"
   ]
  },
  {
   "cell_type": "markdown",
   "metadata": {},
   "source": [
    "##### Pathogen"
   ]
  },
  {
   "cell_type": "code",
   "execution_count": 4,
   "metadata": {},
   "outputs": [],
   "source": [
    "pathogen = inf.SARS_COV_2(10)"
   ]
  },
  {
   "cell_type": "markdown",
   "metadata": {},
   "source": [
    "##### Set up counterfactual simulation"
   ]
  },
  {
   "cell_type": "code",
   "execution_count": 5,
   "metadata": {},
   "outputs": [],
   "source": [
    "cf = inf.CounterfactualSim(sim_pars, pathogens = [pathogen], intervention_packages=packages)"
   ]
  },
  {
   "cell_type": "markdown",
   "metadata": {},
   "source": [
    "Run the baseline scenario (no interventions). This also checks whether a larger epidemic occurs in the simulated scenario and determines a realistic range of detection times."
   ]
  },
  {
   "cell_type": "code",
   "execution_count": 6,
   "metadata": {},
   "outputs": [],
   "source": [
    "cf.run_baseline()"
   ]
  },
  {
   "cell_type": "code",
   "execution_count": 7,
   "metadata": {},
   "outputs": [
    {
     "name": "stdout",
     "output_type": "stream",
     "text": [
      "Sim(<no label>; 2020-03-01 to 2020-06-09; pop: 5000 behaviour_module; epi: 9284⚙, 41☠)\n",
      "Detection range: [{'lower': 8.0, 'upper': 23}]\n",
      "Is epidemic: [True]\n"
     ]
    }
   ],
   "source": [
    "print(cf.sim_baseline)\n",
    "print(f\"Detection range: {cf.sim_baseline.get_detection_ranges()}\")\n",
    "print(f\"Is epidemic: {cf.sim_baseline.is_epidemic()}\")"
   ]
  },
  {
   "cell_type": "markdown",
   "metadata": {},
   "source": [
    "##### Run counterfactual simulations\n",
    "To run a counterfactual simulation, you have to specify which intervention package should be used and what detection time to assume."
   ]
  },
  {
   "cell_type": "code",
   "execution_count": 8,
   "metadata": {},
   "outputs": [
    {
     "name": "stdout",
     "output_type": "stream",
     "text": [
      "Running counterfactual for intervention package \"medium\" with detection time 2.\n",
      "Running counterfactual for intervention package \"medium\" with detection time 5.\n"
     ]
    }
   ],
   "source": [
    "cf.run_counterfactual(intervention_package_key=\"medium\", detection_times=[2, 5], verbose = True)"
   ]
  },
  {
   "cell_type": "markdown",
   "metadata": {},
   "source": [
    "You can inspect the stored counterfactual simulations in `cf.sims_counterfactual`."
   ]
  },
  {
   "cell_type": "code",
   "execution_count": 9,
   "metadata": {},
   "outputs": [
    {
     "name": "stdout",
     "output_type": "stream",
     "text": [
      "#0: 'medium': {2: Sim(<no label>; 2020-03-01 to 2020-06-09; pop: 5000\n",
      "behaviour_module; epi: 8702⚙, 28☠), 5: Sim(<no label>; 2020-03-01 to 2020-06-09;\n",
      "pop: 5000 behaviour_module; epi: 8702⚙, 28☠)}\n",
      "#1: 'strong': {}\n"
     ]
    },
    {
     "data": {
      "text/plain": []
     },
     "execution_count": 9,
     "metadata": {},
     "output_type": "execute_result"
    }
   ],
   "source": [
    "cf.sims_counterfactual"
   ]
  },
  {
   "cell_type": "markdown",
   "metadata": {},
   "source": [
    "This is a two-level dictionary. The first key represents the intervention package, and the second key the detection time."
   ]
  },
  {
   "cell_type": "code",
   "execution_count": 10,
   "metadata": {},
   "outputs": [
    {
     "data": {
      "text/plain": [
       "Sim(<no label>; 2020-03-01 to 2020-06-09; pop: 5000 behaviour_module; epi: 8702⚙, 28☠)"
      ]
     },
     "execution_count": 10,
     "metadata": {},
     "output_type": "execute_result"
    }
   ],
   "source": [
    "cf.sims_counterfactual[\"medium\"][2]"
   ]
  },
  {
   "cell_type": "markdown",
   "metadata": {},
   "source": [
    "##### Scan detection times with counterfactual simulation"
   ]
  },
  {
   "cell_type": "code",
   "execution_count": 11,
   "metadata": {},
   "outputs": [
    {
     "name": "stdout",
     "output_type": "stream",
     "text": [
      "Running counterfactual for intervention package \"medium\" with detection time 8.\n",
      "Running counterfactual for intervention package \"medium\" with detection time 16.\n",
      "Running counterfactual for intervention package \"medium\" with detection time 23.\n"
     ]
    }
   ],
   "source": [
    "cf.scan_detection_range(intervention_package_keys=\"medium\", n_steps = 3, verbose = True)"
   ]
  },
  {
   "cell_type": "code",
   "execution_count": 12,
   "metadata": {},
   "outputs": [
    {
     "name": "stdout",
     "output_type": "stream",
     "text": [
      "#0: 'medium': {2: Sim(<no label>; 2020-03-01 to 2020-06-09; pop: 5000\n",
      "behaviour_module; epi: 8702⚙, 28☠), 5: Sim(<no label>; 2020-03-01 to 2020-06-09;\n",
      "pop: 5000 behaviour_module; epi: 8702⚙, 28☠), 8: Sim(<no label>; 2020-03-01 to\n",
      "2020-06-09; pop: 5000 behaviour_module; epi: 8702⚙, 28☠), 16: Sim(<no label>;\n",
      "2020-03-01 to 2020-06-09; pop: 5000 behaviour_module; epi: 8702⚙, 28☠), 23:\n",
      "Sim(<no label>; 2020-03-01 to 2020-06-09; pop: 5000 behaviour_module; epi:\n",
      "8702⚙, 28☠)}\n",
      "#1: 'strong': {}\n"
     ]
    },
    {
     "data": {
      "text/plain": []
     },
     "execution_count": 12,
     "metadata": {},
     "output_type": "execute_result"
    }
   ],
   "source": [
    "cf.sims_counterfactual"
   ]
  },
  {
   "cell_type": "markdown",
   "metadata": {},
   "source": [
    "You can also leave out `intervention_package_keys` (or set it to `None`), in which case the detection time scan will be run for all packages."
   ]
  },
  {
   "cell_type": "code",
   "execution_count": 13,
   "metadata": {},
   "outputs": [
    {
     "name": "stdout",
     "output_type": "stream",
     "text": [
      "Running counterfactual for intervention package \"medium\" with detection time 8.\n",
      "Running counterfactual for intervention package \"medium\" with detection time 16.\n",
      "Running counterfactual for intervention package \"medium\" with detection time 23.\n",
      "Running counterfactual for intervention package \"strong\" with detection time 8.\n",
      "Running counterfactual for intervention package \"strong\" with detection time 16.\n",
      "Running counterfactual for intervention package \"strong\" with detection time 23.\n"
     ]
    }
   ],
   "source": [
    "cf.scan_detection_range(n_steps = 3, verbose = True)"
   ]
  },
  {
   "cell_type": "code",
   "execution_count": 14,
   "metadata": {},
   "outputs": [
    {
     "name": "stdout",
     "output_type": "stream",
     "text": [
      "#0: 'medium': {2: Sim(<no label>; 2020-03-01 to 2020-06-09; pop: 5000\n",
      "behaviour_module; epi: 8702⚙, 28☠), 5: Sim(<no label>; 2020-03-01 to 2020-06-09;\n",
      "pop: 5000 behaviour_module; epi: 8702⚙, 28☠), 8: Sim(<no label>; 2020-03-01 to\n",
      "2020-06-09; pop: 5000 behaviour_module; epi: 8702⚙, 28☠), 16: Sim(<no label>;\n",
      "2020-03-01 to 2020-06-09; pop: 5000 behaviour_module; epi: 8702⚙, 28☠), 23:\n",
      "Sim(<no label>; 2020-03-01 to 2020-06-09; pop: 5000 behaviour_module; epi:\n",
      "8702⚙, 28☠)}\n",
      "#1: 'strong': {8: Sim(<no label>; 2020-03-01 to 2020-06-09; pop: 5000\n",
      "behaviour_module; epi: 7908⚙, 32☠), 16: Sim(<no label>; 2020-03-01 to\n",
      "2020-06-09; pop: 5000 behaviour_module; epi: 7908⚙, 32☠), 23: Sim(<no label>;\n",
      "2020-03-01 to 2020-06-09; pop: 5000 behaviour_module; epi: 7908⚙, 32☠)}\n"
     ]
    },
    {
     "data": {
      "text/plain": []
     },
     "execution_count": 14,
     "metadata": {},
     "output_type": "execute_result"
    }
   ],
   "source": [
    "cf.sims_counterfactual"
   ]
  }
 ],
 "metadata": {
  "kernelspec": {
   "display_name": "pathosim",
   "language": "python",
   "name": "python3"
  },
  "language_info": {
   "codemirror_mode": {
    "name": "ipython",
    "version": 3
   },
   "file_extension": ".py",
   "mimetype": "text/x-python",
   "name": "python",
   "nbconvert_exporter": "python",
   "pygments_lexer": "ipython3",
   "version": "3.8.18"
  }
 },
 "nbformat": 4,
 "nbformat_minor": 2
}
